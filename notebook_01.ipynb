{
 "cells": [
  {
   "cell_type": "markdown",
   "metadata": {},
   "source": [
    "<h1>5CCS2FCT Foundations of Computing Theory</h1>\n",
    "<h2>Practical - Week 7 [Solutions]</h2>"
   ]
  },
  {
   "cell_type": "markdown",
   "metadata": {},
   "source": [
    "<link rel=\"stylesheet\" href=\"https://stackpath.bootstrapcdn.com/bootstrap/4.5.2/css/bootstrap.min.css\">\n",
    "\n",
    "<div class=\"alert alert-warning\" role=\"alert\">\n",
    "  <h5 class=\"alert-heading\">Install Prerequisites</h5>\n",
    "  <p>Run the below codeblocks to install required Python libraries used in this notebook.</p>\n",
    "  <p>The `pygraphviz` and prereqsuisite `graphviz-dev` are used for visualising the DFA/NFAs. However, the rest of the exercises should be possible without these</p>\n",
    "</div>"
   ]
  },
  {
   "cell_type": "code",
   "execution_count": null,
   "metadata": {},
   "outputs": [],
   "source": [
    "!sudo apt-get install -y graphviz-dev"
   ]
  },
  {
   "cell_type": "code",
   "execution_count": null,
   "metadata": {},
   "outputs": [],
   "source": [
    "%pip install pygraphviz coloraide automata-lib --quiet"
   ]
  },
  {
   "cell_type": "markdown",
   "metadata": {},
   "source": [
    "<link rel=\"stylesheet\" href=\"https://stackpath.bootstrapcdn.com/bootstrap/4.5.2/css/bootstrap.min.css\">\n",
    "\n",
    "<div class=\"alert alert-info\" role=\"alert\">\n",
    "  <h5 class=\"alert-heading\">Import Libraries</h5>\n",
    "  <p>Run the below codeblock to import the Python libraries used in this notebook, as well as some functions used to check your solutions</p>\n",
    "</div>"
   ]
  },
  {
   "cell_type": "code",
   "execution_count": null,
   "metadata": {},
   "outputs": [],
   "source": [
    "# Import DFA and NFA objects from the automata library \n",
    "from automata.fa.dfa import DFA\n",
    "from automata.fa.nfa import NFA\n",
    "\n",
    "# Import hashlib for checking solutions\n",
    "from hashlib import md5\n",
    "from networkx import weisfeiler_lehman_graph_hash as wlhash, union_all\n",
    "check_soln = lambda soln, hash : md5(str(soln).encode(\"utf-8\")).hexdigest() == hash\n",
    "DFA_hash = lambda A: wlhash(union_all([G:=A._get_digraph(),((X:=G.copy()).remove_node(A.initial_state) or X),((X:=G.copy()).remove_nodes_from(A.final_states) or X)],rename=('G1#', 'G2#','G3#')))\n",
    "check_DFA_soln = lambda A, hash: DFA_hash(A.minify()) == hash\n",
    "\n",
    "# Feel free to import any additional libraries that you will find useful\n",
    "import itertools"
   ]
  },
  {
   "cell_type": "markdown",
   "metadata": {},
   "source": [
    "## Task 1"
   ]
  },
  {
   "cell_type": "markdown",
   "metadata": {},
   "source": [
    "#### Part 1.1\n",
    "Sketch (on paper) the DFA described below then run the the code block to check your answer."
   ]
  },
  {
   "cell_type": "code",
   "execution_count": null,
   "metadata": {},
   "outputs": [],
   "source": [
    "## You do not need to edit this code block; just run it\n",
    "A = DFA(input_symbols={'0','1'},\n",
    "\t\tstates = {'p','q','r','s'},\n",
    "\t\tinitial_state='p',\n",
    "\t\tfinal_states = {'s'},\n",
    "\t\ttransitions = {\n",
    "\t\t\t'p': {'0': 'q', '1':'p'},\n",
    "\t\t\t'q': {'0':'r', '1':'p'},\n",
    "\t\t\t'r': {'0':'r', '1':'s'},\n",
    "            's': {'0':'s', '1':'s'},\n",
    "\t\t})\n",
    "\n",
    "# run this block to view DFA\n",
    "A.show_diagram()"
   ]
  },
  {
   "cell_type": "markdown",
   "metadata": {},
   "source": [
    "#### Part 1.2\n",
    "Identify 5 input words that are accepted by A and 5 input words that are rejected by A"
   ]
  },
  {
   "cell_type": "code",
   "execution_count": null,
   "metadata": {},
   "outputs": [],
   "source": [
    "## Edit ##\n",
    "accepted_words = [] # add words to list\n",
    "rejected_words = [] # add words to list"
   ]
  },
  {
   "cell_type": "markdown",
   "metadata": {},
   "source": [
    "<link rel=\"stylesheet\" href=\"https://stackpath.bootstrapcdn.com/bootstrap/4.5.2/css/bootstrap.min.css\">\n",
    "\n",
    "<div class=\"alert alert-warning\" role=\"alert\">\n",
    "  <h5 class=\"alert-heading\">Testing</h5>\n",
    "  <p>Run the below codeblock to test your solutions.</p>\n",
    "</div>"
   ]
  },
  {
   "cell_type": "code",
   "execution_count": null,
   "metadata": {},
   "outputs": [],
   "source": [
    "## Do not edit ##\n",
    "assert isinstance(A,DFA), \"Your proposed automaton 'A' is not of type DFA\"\n",
    "assert len(set(accepted_words))>=5, \"'accepted_words' did not contain enough distinct values\"\n",
    "assert all(A.accepts_input(w) for w in accepted_words), \"Some words from 'accepted_words' were not accepted\"\n",
    "assert len(set(rejected_words))>=5, \"'rejected_words' did not contain enough distinct values\"\n",
    "assert all(not A.accepts_input(w) for w in rejected_words), \"Some words from 'rejected_words' were not rejected\""
   ]
  },
  {
   "cell_type": "markdown",
   "metadata": {},
   "source": [
    "#### Part 1.3\n",
    "Describe the language that is decided by this DFA."
   ]
  },
  {
   "cell_type": "code",
   "execution_count": null,
   "metadata": {},
   "outputs": [],
   "source": [
    "## Nothing to code for this part but feel free to write your answers here for reference\n",
    "'''\n",
    "\n",
    "\n",
    "'''"
   ]
  },
  {
   "cell_type": "markdown",
   "metadata": {},
   "source": [
    "# Task 2\n",
    "Consider the following DFA:"
   ]
  },
  {
   "cell_type": "code",
   "execution_count": null,
   "metadata": {},
   "outputs": [],
   "source": [
    "## Do not edit ##\n",
    "dfa = DFA(states = {'p','q','r','s'},\n",
    "\t\t  initial_state='p',\n",
    "\t\t  final_states = {'q','r'},\n",
    "\t\t  input_symbols={'1','0'}, # Note: the input symbols must be strings not integers\n",
    "\t\t  transitions = {\n",
    "\t\t\t  'p': {'0': 'q', '1': 'r'},\n",
    "\t\t\t  'q': {'0': 'p', '1': 's'},\n",
    "\t\t\t  'r': {'0': 's', '1': 'p'},\n",
    "              's': {'0': 'r', '1': 'q'}\n",
    "\t\t  }\n",
    "\t\t  )\n",
    "\n",
    "dfa.show_diagram()"
   ]
  },
  {
   "cell_type": "markdown",
   "metadata": {},
   "source": [
    "#### Part 2.1\n",
    "Write down the sequence of states that are visisted during the computations of this automaton, on the following input words:\n",
    "- `11101`\n",
    "- `10011`\n",
    "- `01011`"
   ]
  },
  {
   "cell_type": "code",
   "execution_count": null,
   "metadata": {},
   "outputs": [],
   "source": [
    "## Edit ##\n",
    "input_11101= []\t\t# complete the computation\n",
    "input_10011 = []\t\t# complete the computation\n",
    "input_010100 = []\t# complete the computation"
   ]
  },
  {
   "cell_type": "code",
   "execution_count": null,
   "metadata": {},
   "outputs": [],
   "source": [
    "## Do not edit ##\n",
    "assert check_soln(input_11101,'b72b85d1a17eb6bb74ca3dd063e85570'),  \"Your sequence of states for input_11101 was not correct\"\n",
    "assert check_soln(input_10011,'0fbcbec2b2039bdfe8d6c95b77b69b2b'),  \"Your sequence of states for input_10011 was not correct\"\n",
    "assert check_soln(input_010100,'3665534080b152966ecfaf793943f81b'), \"Your sequence of states for input_010100 was not correct\""
   ]
  },
  {
   "cell_type": "markdown",
   "metadata": {},
   "source": [
    "### Part 2.2\n",
    "Describe the language that is decided by this DFA."
   ]
  },
  {
   "cell_type": "code",
   "execution_count": null,
   "metadata": {},
   "outputs": [],
   "source": [
    "## Nothing to code for this part but feel free to write your answers here for reference\n",
    "'''\n",
    "\n",
    "\n",
    "'''"
   ]
  },
  {
   "cell_type": "markdown",
   "metadata": {},
   "source": [
    "# Task 3\n",
    "Let $\\Sigma=\\{0,1\\}$ be a binary alphabet. For each of the following languages $L$, construct a DFA that decides $L$:"
   ]
  },
  {
   "cell_type": "markdown",
   "metadata": {},
   "source": [
    "### Part 3.1\n",
    "$$L = \\{w: \\in \\Sigma^\\ast : w \\text{ contains an even number of 0s or exactly two 1s}\\}$$"
   ]
  },
  {
   "cell_type": "code",
   "execution_count": null,
   "metadata": {},
   "outputs": [],
   "source": [
    "## Edit ##\n",
    "dfa1 = DFA(\n",
    "\tstates = {},\n",
    "\tinitial_state = ,\n",
    "\tfinal_states={},\n",
    "\tinput_symbols={},\n",
    "\ttransitions = {\n",
    "\t\t\n",
    "\t}\n",
    "\n",
    ")\n",
    "\n",
    "dfa1.show_diagram()"
   ]
  },
  {
   "cell_type": "code",
   "execution_count": null,
   "metadata": {},
   "outputs": [],
   "source": [
    "## Do not edit ##\n",
    "accepted_words = ['','1','100100','00010','00011','0100011']\n",
    "rejected_words = ['00000','001000','0010','10','0','000100']\n",
    "\n",
    "assert isinstance(dfa1,DFA), \"Your proposed automaton 'dfa1' is not of type DFA\"\n",
    "assert all(dfa1.accepts_input(w) for w in accepted_words), \"Your proposed DFA fails to accept some of the accepted_words\"\n",
    "assert all(not dfa1.accepts_input(w) for w in rejected_words), \"Your proposed DFA fails to reject some of the rejected words\""
   ]
  },
  {
   "cell_type": "markdown",
   "metadata": {},
   "source": [
    "### Part 3.2 \n",
    "$$L = \\{w \\in \\Sigma^\\ast : \\text{the penultimate (second to last) digit of } w \\text{ is a 1}\\}$$"
   ]
  },
  {
   "cell_type": "code",
   "execution_count": null,
   "metadata": {},
   "outputs": [],
   "source": [
    "## Edit ##\n",
    "dfa2 = DFA(\n",
    "\tstates = {},\n",
    "\tinitial_state = ,\n",
    "\tfinal_states={},\n",
    "\tinput_symbols={},\n",
    "\ttransitions = {\n",
    "\t\n",
    "\t}\n",
    "\n",
    ")\n",
    "\n",
    "dfa2.show_diagram()"
   ]
  },
  {
   "cell_type": "code",
   "execution_count": null,
   "metadata": {},
   "outputs": [],
   "source": [
    "## Do not edit\n",
    "accepted_words = ['11111','000010', '101010','1100110','010010','01110110']\n",
    "rejected_words = ['10001', '110001','111001','1010100','10110000','1100000']\n",
    "\n",
    "assert isinstance(dfa2,DFA), \"Your proposed automaton 'dfa2' is not of type DFA\"\n",
    "assert all(dfa2.accepts_input(w) for w in accepted_words), \"Your proposed DFA fails to accept some of the accepted_words\"\n",
    "assert all(not dfa2.accepts_input(w) for w in rejected_words), \"Your proposed DFA fails to reject some of the rejected words\""
   ]
  },
  {
   "cell_type": "markdown",
   "metadata": {},
   "source": [
    "#### Part 3.3\n",
    "$$ L = \\{w \\in \\Sigma^\\ast : \\text{ encodes a multiple of 5 in binary}\\}.$$"
   ]
  },
  {
   "cell_type": "markdown",
   "metadata": {},
   "source": [
    "<link rel=\"stylesheet\" href=\"https://stackpath.bootstrapcdn.com/bootstrap/4.5.2/css/bootstrap.min.css\">\n",
    "\n",
    "<div class=\"alert alert-info\" role=\"alert\">\n",
    "  <p><strong>Hint</strong> Consider how the addition of an extra 0 or 1 changes the remainder of the number modulo 5.</p>\n",
    "</div>"
   ]
  },
  {
   "cell_type": "code",
   "execution_count": null,
   "metadata": {},
   "outputs": [],
   "source": [
    "dfa3 = DFA(\n",
    "\tstates = {},\n",
    "\tinitial_state =,\n",
    "\tfinal_states={},\n",
    "\tinput_symbols={},\n",
    "\ttransitions = {\n",
    "\t\n",
    "\t}\n",
    "\n",
    ")\n",
    "\n",
    "dfa3.show_diagram()"
   ]
  },
  {
   "cell_type": "code",
   "execution_count": null,
   "metadata": {},
   "outputs": [],
   "source": [
    "## Tests for langauges of all binary strings that encode multiples of five\n",
    "accepted_words = ['101101','110010', '10011011','1000001','111100','10100101']\n",
    "rejected_words = ['100101', '110011','111001','1010110','10110010','1100000']\n",
    "\n",
    "assert isinstance(dfa3,DFA), \"Your proposed automaton 'dfa1' is not of type DFA\"\n",
    "assert all(dfa3.accepts_input(w) for w in accepted_words), \"Your proposed DFA fails to accept some of the accepted_words\"\n",
    "assert all(not dfa3.accepts_input(w) for w in rejected_words), \"Your proposed DFA fails to reject some of the rejected words\""
   ]
  },
  {
   "cell_type": "markdown",
   "metadata": {},
   "source": [
    "# Task 4"
   ]
  },
  {
   "cell_type": "markdown",
   "metadata": {},
   "source": [
    "#### Part 4.1\n",
    "Complete the function `dfa_complement` which takes as input a DFA $A$ and returns a new DFA $B$ whose language is the complement of $A$'s language. i.e.\n",
    "$$ \\mathsf{Language}(B) = \\Sigma^\\ast - \\mathsf{Language}(A)$$ "
   ]
  },
  {
   "cell_type": "code",
   "execution_count": null,
   "metadata": {},
   "outputs": [],
   "source": [
    "## Edit ##\n",
    "def dfa_complement(A: DFA) -> DFA:\n",
    "    B = DFA(\n",
    "        states          = ,\n",
    "        initial_state   = ,\n",
    "        final_states    = ,\n",
    "        input_symbols   = ,\n",
    "        transitions     = \n",
    "    )\n",
    "\n",
    "    return B"
   ]
  },
  {
   "cell_type": "code",
   "execution_count": null,
   "metadata": {},
   "outputs": [],
   "source": [
    "## Do not edit ##\n",
    "A = DFA(\n",
    "        states          = {'p','q','r'},\n",
    "        initial_state   = 'p',\n",
    "        final_states    = {'p'},\n",
    "        input_symbols   = {'0','1'},\n",
    "        transitions     = {\n",
    "            'p': {'0': 'p', '1': 'q'},\n",
    "            'q': {'0': 'r', '1': 'p'},\n",
    "            'r': {'0': 'q', '1': 'r'},\n",
    "        }\n",
    "    )\n",
    "\n",
    "DFA_hash(dfa_complement(A).minify())\n",
    "assert check_DFA_soln(dfa_complement(A), 'e96dc63288a373765c967b98fc3c0ac7'), \"Your function does not appear to be correct\""
   ]
  },
  {
   "cell_type": "markdown",
   "metadata": {},
   "source": [
    "#### Part 4.2\n",
    "(tricky) Complete the function `dfa_intersection` which takes as input two DFAs $A$ and $B$ and returns a new DFA $C$ whose language is the intersection of the languages of $A$ and $B$. i.e.\n",
    "$$ \\mathsf{Language}(C) = \\mathsf{Language}(A) \\cap \\mathsf{Language}(B)$$ "
   ]
  },
  {
   "cell_type": "code",
   "execution_count": null,
   "metadata": {},
   "outputs": [],
   "source": [
    "## Edit ##\n",
    "def dfa_intersection(A: DFA, B: DFA) -> DFA:\n",
    "\tassert A.input_symbols == B.input_symbols, \"Input DFAs should have the same alphabet\"\n",
    "\tinput_symbols = A.input_symbols\n",
    "\n",
    "\n",
    "\tC = DFA(\n",
    "\t\tstates\t\t\t= ,\n",
    "\t\tinitial_state\t= ,\n",
    "\t\tfinal_states\t= ,\n",
    "\t\tinput_symbols\t= input_symbols,\n",
    "\t\ttransitions\t\t= \n",
    "\t)\n",
    "\n",
    "\treturn C"
   ]
  },
  {
   "cell_type": "code",
   "execution_count": null,
   "metadata": {},
   "outputs": [],
   "source": [
    "## Do not edit ##\n",
    "A = DFA(\n",
    "        states          = {'p','q','r'},\n",
    "        initial_state   = 'p',\n",
    "        final_states    = {'p'},\n",
    "        input_symbols   = {'0','1'},\n",
    "        transitions     = {\n",
    "            'p': {'0': 'p', '1': 'q'},\n",
    "            'q': {'0': 'r', '1': 'p'},\n",
    "            'r': {'0': 'q', '1': 'r'},\n",
    "        }\n",
    "    )\n",
    "\n",
    "B = DFA(\n",
    "        states          = {'x','y','z'},\n",
    "        initial_state   = 'x',\n",
    "        final_states    = {'z'},\n",
    "        input_symbols   = {'0','1'},\n",
    "        transitions     = {\n",
    "            'x': {'0': 'x', '1': 'y'},\n",
    "            'y': {'0': 'y', '1': 'z'},\n",
    "            'z': {'0': 'z', '1': 'x'},\n",
    "        }\n",
    "    )\n",
    "\n",
    "\n",
    "assert check_DFA_soln(dfa_intersection(A,B), '4edc16f6153041120aee3de102b7f446'), \"Your function does not appear to be correct\""
   ]
  },
  {
   "cell_type": "markdown",
   "metadata": {},
   "source": [
    "#### Part 4.3\n",
    "Use yoru previously designed functions to complete the function `dfa_union` which takes as input two DFAs $A$ and $B$ and returns a new DFA $C$ whose language is the union of the languages of $A$ and $B$. i.e.\n",
    "$$ \\mathsf{Language}(C) = \\mathsf{Language}(A) \\cup \\mathsf{Language}(B)$$ "
   ]
  },
  {
   "cell_type": "code",
   "execution_count": null,
   "metadata": {},
   "outputs": [],
   "source": [
    "## Edit ##\n",
    "def dfa_union(A: DFA, B: DFA) -> DFA:\n",
    "\n",
    "    return "
   ]
  },
  {
   "cell_type": "code",
   "execution_count": null,
   "metadata": {},
   "outputs": [],
   "source": [
    "## Do not edit ##\n",
    "A = DFA(\n",
    "        states          = {'p','q','r'},\n",
    "        initial_state   = 'p',\n",
    "        final_states    = {'p'},\n",
    "        input_symbols   = {'0','1'},\n",
    "        transitions     = {\n",
    "            'p': {'0': 'p', '1': 'q'},\n",
    "            'q': {'0': 'r', '1': 'p'},\n",
    "            'r': {'0': 'q', '1': 'r'},\n",
    "        }\n",
    "    )\n",
    "\n",
    "B = DFA(\n",
    "        states          = {'x','y','z'},\n",
    "        initial_state   = 'x',\n",
    "        final_states    = {'z'},\n",
    "        input_symbols   = {'0','1'},\n",
    "        transitions     = {\n",
    "            'x': {'0': 'x', '1': 'y'},\n",
    "            'y': {'0': 'y', '1': 'z'},\n",
    "            'z': {'0': 'z', '1': 'x'},\n",
    "        }\n",
    "    )\n",
    "\n",
    "\n",
    "assert check_DFA_soln(dfa_union(A,B), 'b7852282cdbe68d925665ab9f3cf588b'), \"Your function does not appear to be correct\""
   ]
  },
  {
   "cell_type": "markdown",
   "metadata": {},
   "source": [
    "<link rel=\"stylesheet\" href=\"https://stackpath.bootstrapcdn.com/bootstrap/4.5.2/css/bootstrap.min.css\">\n",
    "\n",
    "\n",
    "<div class=\"alert alert-success\" role=\"alert\">\n",
    "  <h5 class=\"alert-heading\">Congratulations!</h5>\n",
    "  <p>Well done on making it to the end of the notebook!</p>\n",
    "</div>\n"
   ]
  }
 ],
 "metadata": {
  "kernelspec": {
   "display_name": "Python 3",
   "language": "python",
   "name": "python3"
  },
  "language_info": {
   "codemirror_mode": {
    "name": "ipython",
    "version": 3
   },
   "file_extension": ".py",
   "mimetype": "text/x-python",
   "name": "python",
   "nbconvert_exporter": "python",
   "pygments_lexer": "ipython3",
   "version": "3.12.5"
  }
 },
 "nbformat": 4,
 "nbformat_minor": 2
}
