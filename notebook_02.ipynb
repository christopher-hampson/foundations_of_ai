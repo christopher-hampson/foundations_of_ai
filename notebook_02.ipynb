{
 "cells": [
  {
   "cell_type": "markdown",
   "metadata": {},
   "source": [
    "<h1>Foundations of Artificial Intelligence</h1>\n",
    "<h2>Practical Lab</h2>"
   ]
  },
  {
   "cell_type": "markdown",
   "metadata": {},
   "source": [
    "<link rel=\"stylesheet\" href=\"https://stackpath.bootstrapcdn.com/bootstrap/4.5.2/css/bootstrap.min.css\">\n",
    "\n",
    "<div class=\"alert alert-warning\" role=\"alert\">\n",
    "  <h5 class=\"alert-heading\">Install Prerequisites</h5>\n",
    "  <p>Run the below codeblocks to install required Python libraries used in this notebook.</p>\n",
    "</div>"
   ]
  },
  {
   "cell_type": "code",
   "execution_count": null,
   "metadata": {},
   "outputs": [],
   "source": [
    "%pip install automata-lib --quiet"
   ]
  },
  {
   "cell_type": "code",
   "execution_count": null,
   "metadata": {},
   "outputs": [],
   "source": [
    "# Import DTM objects from the automata library \n",
    "from automata.tm.dtm import DTM"
   ]
  },
  {
   "cell_type": "markdown",
   "metadata": {},
   "source": [
    "<link rel=\"stylesheet\" href=\"https://stackpath.bootstrapcdn.com/bootstrap/4.5.2/css/bootstrap.min.css\">\n",
    "\n",
    "<div class=\"alert alert-warning\" role=\"alert\">\n",
    "  <h5 class=\"alert-heading\">Load functions for checking solutions</h5>\n",
    "  <p>Run the below codeblock to load some functions used in checking your solutions.</p>\n",
    "</div>"
   ]
  },
  {
   "cell_type": "code",
   "execution_count": null,
   "metadata": {},
   "outputs": [],
   "source": [
    "# Do not edit\n",
    "from hashlib import md5\n",
    "\n",
    "output = lambda M, w: \"\".join(M.read_input(w).tape.tape).strip()\n",
    "get_hash = lambda w: md5(str(w).encode(\"utf-8\")).hexdigest()\n",
    "check_soln = lambda soln, hash : get_hash(soln) == hash"
   ]
  },
  {
   "cell_type": "markdown",
   "metadata": {},
   "source": [
    "## Task 1\n",
    "Consider the following (deterministic) Turing Machine over the alphabet $\\Sigma=\\{a,b,Z\\}$"
   ]
  },
  {
   "cell_type": "code",
   "execution_count": null,
   "metadata": {},
   "outputs": [],
   "source": [
    "dtm = DTM(\n",
    "    states          = {'q0', 'q1', 'q2', 'q3', 'q_accept', 'q_reject'},\n",
    "\tinitial_state   = 'q0',\n",
    "\tfinal_states    = {'q_accept', 'q_reject'},     \n",
    "    input_symbols   = {'a', 'b', 'Z'},           # this library does not permit '#' as a input/tape symbol, and so 'Z' has been used instead.\n",
    "    tape_symbols    = {'a', 'b', 'Z',' '},       # tape_symbols includes an additional blank symbol ' '\n",
    "    blank_symbol    = ' ',                       # For this library we must specify which symbol is the blank_symbol \n",
    "    transitions     = {\n",
    "        'q0': {\n",
    "            'Z': ('q0', ' ', 'R'),               # For Turing Machines we now specify a triple (new_state, write_symbol, move_direction)\n",
    "            'a': ('q1', ' ', 'R'),               # where the move_direction is either 'L' = Left or 'R' = Right.\n",
    "            'b': ('q2', ' ', 'R'),\n",
    "            ' ': ('q_accept', ' ', 'R')\n",
    "        },\n",
    "        'q1': {\n",
    "            'a': ('q1', 'a', 'R'),\n",
    "            'Z': ('q1', 'Z', 'R'),\n",
    "            'b': ('q3', 'Z', 'L'),\n",
    "\t\t\t' ': ('q_reject', ' ', 'R')\n",
    "        },\n",
    "        'q2': {\n",
    "            'b': ('q2', 'b', 'R'),\n",
    "            'Z': ('q2', 'Z', 'R'),\n",
    "            'a': ('q3', 'Z', 'L'),\n",
    "\t\t\t' ': ('q_reject', ' ', 'R')\n",
    "        },\n",
    "        'q3': {\n",
    "            'a': ('q3', 'a', 'L'),\n",
    "            'b': ('q3', 'b', 'L'),\n",
    "            'Z': ('q3', 'Z', 'L'),\n",
    "            ' ': ('q0', ' ', 'R')\n",
    "        },\n",
    "    },\n",
    ")\n"
   ]
  },
  {
   "cell_type": "markdown",
   "metadata": {},
   "source": [
    "#### Task 1.1\n",
    "For each of the following input words, write down the contents of the tape whenever the machine is in state $q_0$.\n",
    "- $aababb$\n",
    "- $aaabba$\n",
    "- $bbaabb$"
   ]
  },
  {
   "cell_type": "code",
   "execution_count": null,
   "metadata": {},
   "outputs": [],
   "source": [
    "## Edit ##\n",
    "tape_aababb = []\t\t# add words to list\n",
    "tape_aaabba = []\t\t# add words to list\n",
    "tape_bbaabb = []\t\t# add words to list"
   ]
  },
  {
   "cell_type": "code",
   "execution_count": null,
   "metadata": {},
   "outputs": [],
   "source": [
    "## Do not edit ##\n",
    "assert check_soln(tape_aababb,'f9d7381850e7e58fd895f1dad0cd4383')\n",
    "assert check_soln(tape_aaabba,'e4b855df6c22778405682538d668c6b4')\n",
    "assert check_soln(tape_bbaabb,'b3aae163a79f6b39c752eeee5157a5aa')"
   ]
  },
  {
   "cell_type": "markdown",
   "metadata": {},
   "source": [
    "# Task 2\n",
    "Construct a (deterministic) Turing Machine $M_1$, over the alphabet $\\Sigma=\\{a,b\\}$, that has the following properties:\n",
    "- $M_1$ accepts all input words $w\\in \\Sigma^\\ast$\n",
    "- When started in with input word $w\\in \\Sigma^\\ast$, the machine will terminate with the contents of the tape being $wZw$ where $Z$ is a fresh symbol.\n",
    "\n",
    "(You may use additional `tape_symbols` in addition to `'a','b','Z'` if you want.)"
   ]
  },
  {
   "cell_type": "code",
   "execution_count": null,
   "metadata": {},
   "outputs": [],
   "source": [
    "## Edit ##\n",
    "M1 = DTM(\n",
    "    states          = ,\n",
    "\tinitial_state   = ,\n",
    "\tfinal_states    = ,\n",
    "    input_symbols   = ,\n",
    "    tape_symbols    = ,\n",
    "    blank_symbol    = ,\n",
    "    transitions     = \n",
    ")"
   ]
  },
  {
   "cell_type": "code",
   "execution_count": null,
   "metadata": {},
   "outputs": [],
   "source": [
    "## Do not edit ##\n",
    "assert output(M1,\"aaba\") == \"aabaZaaba\"\n",
    "assert output(M1,\"bbaa\") == \"bbaaZbbaa\"\n",
    "assert output(M1,\"\") == \"Z\""
   ]
  },
  {
   "cell_type": "markdown",
   "metadata": {},
   "source": [
    "# Task 3\n",
    "Construct a (deterministic) Turing Machine $M_2$, over the alphabet $\\Sigma=\\{a,b\\}$, that has the following properties:\n",
    "- $M_2$ accepts all input words $w\\in \\Sigma^\\ast$\n",
    "- When started in with input word $w\\in \\Sigma^\\ast$, the machine will terminate with the contents of the tape being $w^R$ where $w^R$ is the reverse of $w$.\n",
    "\n",
    "(You may use additional `tape_symbols` in addition to `'a','b'` if you want.)"
   ]
  },
  {
   "cell_type": "code",
   "execution_count": null,
   "metadata": {},
   "outputs": [],
   "source": [
    "## Edit ##\n",
    "M2 = DTM(\n",
    "    states          = ,\n",
    "\tinitial_state   = ,\n",
    "\tfinal_states    = ,\n",
    "    input_symbols   = ,\n",
    "    tape_symbols    = ,\n",
    "    blank_symbol    = ,\n",
    "    transitions     = \n",
    ")"
   ]
  },
  {
   "cell_type": "code",
   "execution_count": null,
   "metadata": {},
   "outputs": [],
   "source": [
    "## Do not edit ##\n",
    "assert output(M2,\"aabab\") == \"babaa\"\n",
    "assert output(M2,\"bbaaba\") == \"abaabb\"\n",
    "assert output(M2,\"\") == \"\""
   ]
  },
  {
   "cell_type": "markdown",
   "metadata": {},
   "source": [
    "# Task 4\n",
    "\n",
    "Construct a (deterministic) Turing Machine $M_3$, over the alphabet $\\Sigma=\\{0,1\\}$, that has the following properties:\n",
    "- $M_3$ accepts all input words $w\\in \\Sigma^\\ast$\n",
    "- When started in with input word $w\\in \\Sigma^\\ast$, the machine will terminate with the contents being the binary string encoding the value of $w+1$. "
   ]
  },
  {
   "cell_type": "code",
   "execution_count": null,
   "metadata": {},
   "outputs": [],
   "source": [
    "## Edit ##\n",
    "M3 = DTM(\n",
    "    states          = ,\n",
    "\tinitial_state   = ,\n",
    "\tfinal_states    = ,\n",
    "    input_symbols   = ,\n",
    "    tape_symbols    = ,\n",
    "    blank_symbol    = ,\n",
    "    transitions     = \n",
    ")"
   ]
  },
  {
   "cell_type": "code",
   "execution_count": null,
   "metadata": {},
   "outputs": [],
   "source": [
    "## Do not edit ##\n",
    "assert output(M3,\"11011\") == \"11100\"\n",
    "assert output(M3,\"11111\") == \"100000\"\n",
    "assert output(M3,\"00001\") == \"00010\""
   ]
  },
  {
   "cell_type": "markdown",
   "metadata": {},
   "source": [
    "# Task 5\n",
    "\n",
    "Construct a (deterministic) Turing Machine $M_4$, over the alphabet $\\Sigma=\\{0,1,+\\}$, that has the following properties:\n",
    "- $M_4$ accepts all input words of the form $u+v\\in \\Sigma^\\ast$, where $u,v\\in \\{0,1\\}^\\ast$,\n",
    "- When started in with input word $u+v$, the machine will terminate with the contents being the binary string encoding the value of $u+v$. \n",
    "\n",
    "*(Hint: It may be better to think about more basic approaches to adding two numbers than complex long addition algorithms.)*"
   ]
  },
  {
   "cell_type": "code",
   "execution_count": null,
   "metadata": {},
   "outputs": [],
   "source": [
    "## Edit ##\n",
    "M4 = DTM(\n",
    "    states          = ,\n",
    "\tinitial_state   = ,\n",
    "\tfinal_states    = ,\n",
    "    input_symbols   = ,\n",
    "    tape_symbols    = ,\n",
    "    blank_symbol    = ,\n",
    "    transitions     = \n",
    ")"
   ]
  },
  {
   "cell_type": "code",
   "execution_count": null,
   "metadata": {},
   "outputs": [],
   "source": [
    "## Do not edit ##\n",
    "assert output(M4,\"11+10\") == \"101\"\n",
    "assert output(M4,\"101101+10101\") == \"1000010\"\n",
    "assert output(M4,\"10001+100010\") == \"110011\""
   ]
  },
  {
   "cell_type": "markdown",
   "metadata": {},
   "source": [
    "<link rel=\"stylesheet\" href=\"https://stackpath.bootstrapcdn.com/bootstrap/4.5.2/css/bootstrap.min.css\">\n",
    "\n",
    "\n",
    "<div class=\"alert alert-success\" role=\"alert\">\n",
    "  <h5 class=\"alert-heading\">Congratulations!</h5>\n",
    "  <p>Well done on making it to the end of the notebook!</p>\n",
    "</div>\n"
   ]
  }
 ],
 "metadata": {
  "kernelspec": {
   "display_name": "Python 3",
   "language": "python",
   "name": "python3"
  },
  "language_info": {
   "codemirror_mode": {
    "name": "ipython",
    "version": 3
   },
   "file_extension": ".py",
   "mimetype": "text/x-python",
   "name": "python",
   "nbconvert_exporter": "python",
   "pygments_lexer": "ipython3",
   "version": "3.10.12"
  }
 },
 "nbformat": 4,
 "nbformat_minor": 2
}
